{
 "cells": [
  {
   "cell_type": "code",
   "execution_count": 156,
   "metadata": {
    "pycharm": {
     "name": "#%%\n"
    }
   },
   "outputs": [],
   "source": [
    "import pandas as pd\n",
    "import matplotlib.pyplot as plt\n",
    "import numpy as np\n",
    "\n",
    "orders_df = pd.read_csv(\"./orders.csv\", sep=\";\")\n",
    "orders_products_df = pd.read_csv(\"./orders_products.csv\", sep=\";\")\n",
    "products_df = pd.read_csv(\"./products.csv\", sep=\";\")\n",
    "route_segments_df = pd.read_csv(\"./route_segments.csv\", sep=\";\")"
   ]
  },
  {
   "cell_type": "code",
   "execution_count": 157,
   "metadata": {},
   "outputs": [],
   "source": [
    "wastedT_df = pd.read_csv(\"./drivers_wasted.csv\")\n",
    "avg_del_by_driver = pd.read_csv(\"./drivers_avg_delivery_data.csv\")\n",
    "avg_del_by_sector = pd.read_csv(\"setor_avg_delivery_data.csv\")"
   ]
  },
  {
   "cell_type": "code",
   "execution_count": 158,
   "metadata": {},
   "outputs": [
    {
     "data": {
      "text/html": [
       "<div>\n",
       "<style scoped>\n",
       "    .dataframe tbody tr th:only-of-type {\n",
       "        vertical-align: middle;\n",
       "    }\n",
       "\n",
       "    .dataframe tbody tr th {\n",
       "        vertical-align: top;\n",
       "    }\n",
       "\n",
       "    .dataframe thead th {\n",
       "        text-align: right;\n",
       "    }\n",
       "</style>\n",
       "<table border=\"1\" class=\"dataframe\">\n",
       "  <thead>\n",
       "    <tr style=\"text-align: right;\">\n",
       "      <th></th>\n",
       "      <th>driver_id</th>\n",
       "      <th>WastedTime</th>\n",
       "      <th>avg_WastedTimeByStop</th>\n",
       "      <th>stops_count</th>\n",
       "    </tr>\n",
       "  </thead>\n",
       "  <tbody>\n",
       "    <tr>\n",
       "      <th>0</th>\n",
       "      <td>1</td>\n",
       "      <td>1891499</td>\n",
       "      <td>2598.2129</td>\n",
       "      <td>728</td>\n",
       "    </tr>\n",
       "    <tr>\n",
       "      <th>1</th>\n",
       "      <td>2</td>\n",
       "      <td>796593</td>\n",
       "      <td>1270.4833</td>\n",
       "      <td>627</td>\n",
       "    </tr>\n",
       "    <tr>\n",
       "      <th>2</th>\n",
       "      <td>3</td>\n",
       "      <td>1031717</td>\n",
       "      <td>1438.9358</td>\n",
       "      <td>717</td>\n",
       "    </tr>\n",
       "    <tr>\n",
       "      <th>3</th>\n",
       "      <td>4</td>\n",
       "      <td>1025336</td>\n",
       "      <td>1548.8459</td>\n",
       "      <td>662</td>\n",
       "    </tr>\n",
       "  </tbody>\n",
       "</table>\n",
       "</div>"
      ],
      "text/plain": [
       "   driver_id  WastedTime  avg_WastedTimeByStop  stops_count\n",
       "0          1     1891499             2598.2129          728\n",
       "1          2      796593             1270.4833          627\n",
       "2          3     1031717             1438.9358          717\n",
       "3          4     1025336             1548.8459          662"
      ]
     },
     "execution_count": 158,
     "metadata": {},
     "output_type": "execute_result"
    }
   ],
   "source": [
    "wastedT_df"
   ]
  },
  {
   "cell_type": "code",
   "execution_count": 159,
   "metadata": {},
   "outputs": [
    {
     "data": {
      "text/html": [
       "<div>\n",
       "<style scoped>\n",
       "    .dataframe tbody tr th:only-of-type {\n",
       "        vertical-align: middle;\n",
       "    }\n",
       "\n",
       "    .dataframe tbody tr th {\n",
       "        vertical-align: top;\n",
       "    }\n",
       "\n",
       "    .dataframe thead th {\n",
       "        text-align: right;\n",
       "    }\n",
       "</style>\n",
       "<table border=\"1\" class=\"dataframe\">\n",
       "  <thead>\n",
       "    <tr style=\"text-align: right;\">\n",
       "      <th></th>\n",
       "      <th>sector_id</th>\n",
       "      <th>driver_id</th>\n",
       "      <th>avg_deliveryTime</th>\n",
       "      <th>amount_orders</th>\n",
       "      <th>avg_order_weight</th>\n",
       "    </tr>\n",
       "  </thead>\n",
       "  <tbody>\n",
       "    <tr>\n",
       "      <th>0</th>\n",
       "      <td>1</td>\n",
       "      <td>1</td>\n",
       "      <td>185.9463</td>\n",
       "      <td>205</td>\n",
       "      <td>6694.3463</td>\n",
       "    </tr>\n",
       "    <tr>\n",
       "      <th>1</th>\n",
       "      <td>1</td>\n",
       "      <td>2</td>\n",
       "      <td>693.0000</td>\n",
       "      <td>183</td>\n",
       "      <td>6660.3060</td>\n",
       "    </tr>\n",
       "    <tr>\n",
       "      <th>2</th>\n",
       "      <td>1</td>\n",
       "      <td>3</td>\n",
       "      <td>1226.3616</td>\n",
       "      <td>177</td>\n",
       "      <td>6237.8531</td>\n",
       "    </tr>\n",
       "    <tr>\n",
       "      <th>3</th>\n",
       "      <td>1</td>\n",
       "      <td>4</td>\n",
       "      <td>1889.7471</td>\n",
       "      <td>174</td>\n",
       "      <td>6839.4483</td>\n",
       "    </tr>\n",
       "    <tr>\n",
       "      <th>4</th>\n",
       "      <td>2</td>\n",
       "      <td>1</td>\n",
       "      <td>644.9565</td>\n",
       "      <td>161</td>\n",
       "      <td>6849.3602</td>\n",
       "    </tr>\n",
       "    <tr>\n",
       "      <th>5</th>\n",
       "      <td>2</td>\n",
       "      <td>2</td>\n",
       "      <td>742.5326</td>\n",
       "      <td>184</td>\n",
       "      <td>6295.1250</td>\n",
       "    </tr>\n",
       "    <tr>\n",
       "      <th>6</th>\n",
       "      <td>2</td>\n",
       "      <td>3</td>\n",
       "      <td>853.3065</td>\n",
       "      <td>199</td>\n",
       "      <td>5987.1709</td>\n",
       "    </tr>\n",
       "    <tr>\n",
       "      <th>7</th>\n",
       "      <td>2</td>\n",
       "      <td>4</td>\n",
       "      <td>5251.3795</td>\n",
       "      <td>195</td>\n",
       "      <td>6611.0154</td>\n",
       "    </tr>\n",
       "    <tr>\n",
       "      <th>8</th>\n",
       "      <td>3</td>\n",
       "      <td>1</td>\n",
       "      <td>4406.0968</td>\n",
       "      <td>217</td>\n",
       "      <td>6519.0230</td>\n",
       "    </tr>\n",
       "    <tr>\n",
       "      <th>9</th>\n",
       "      <td>3</td>\n",
       "      <td>2</td>\n",
       "      <td>10433.1325</td>\n",
       "      <td>166</td>\n",
       "      <td>6430.3373</td>\n",
       "    </tr>\n",
       "    <tr>\n",
       "      <th>10</th>\n",
       "      <td>3</td>\n",
       "      <td>3</td>\n",
       "      <td>433.9415</td>\n",
       "      <td>205</td>\n",
       "      <td>6489.7317</td>\n",
       "    </tr>\n",
       "    <tr>\n",
       "      <th>11</th>\n",
       "      <td>3</td>\n",
       "      <td>4</td>\n",
       "      <td>895.2147</td>\n",
       "      <td>191</td>\n",
       "      <td>6973.2513</td>\n",
       "    </tr>\n",
       "  </tbody>\n",
       "</table>\n",
       "</div>"
      ],
      "text/plain": [
       "    sector_id  driver_id  avg_deliveryTime  amount_orders  avg_order_weight\n",
       "0           1          1          185.9463            205         6694.3463\n",
       "1           1          2          693.0000            183         6660.3060\n",
       "2           1          3         1226.3616            177         6237.8531\n",
       "3           1          4         1889.7471            174         6839.4483\n",
       "4           2          1          644.9565            161         6849.3602\n",
       "5           2          2          742.5326            184         6295.1250\n",
       "6           2          3          853.3065            199         5987.1709\n",
       "7           2          4         5251.3795            195         6611.0154\n",
       "8           3          1         4406.0968            217         6519.0230\n",
       "9           3          2        10433.1325            166         6430.3373\n",
       "10          3          3          433.9415            205         6489.7317\n",
       "11          3          4          895.2147            191         6973.2513"
      ]
     },
     "execution_count": 159,
     "metadata": {},
     "output_type": "execute_result"
    }
   ],
   "source": [
    "avg_del_by_driver"
   ]
  },
  {
   "cell_type": "code",
   "execution_count": 160,
   "metadata": {},
   "outputs": [
    {
     "data": {
      "text/html": [
       "<div>\n",
       "<style scoped>\n",
       "    .dataframe tbody tr th:only-of-type {\n",
       "        vertical-align: middle;\n",
       "    }\n",
       "\n",
       "    .dataframe tbody tr th {\n",
       "        vertical-align: top;\n",
       "    }\n",
       "\n",
       "    .dataframe thead th {\n",
       "        text-align: right;\n",
       "    }\n",
       "</style>\n",
       "<table border=\"1\" class=\"dataframe\">\n",
       "  <thead>\n",
       "    <tr style=\"text-align: right;\">\n",
       "      <th></th>\n",
       "      <th>sector_id</th>\n",
       "      <th>avg_deliveryTime</th>\n",
       "      <th>amount_orders</th>\n",
       "    </tr>\n",
       "  </thead>\n",
       "  <tbody>\n",
       "    <tr>\n",
       "      <th>0</th>\n",
       "      <td>1</td>\n",
       "      <td>961.8674</td>\n",
       "      <td>739</td>\n",
       "    </tr>\n",
       "    <tr>\n",
       "      <th>1</th>\n",
       "      <td>2</td>\n",
       "      <td>1940.8539</td>\n",
       "      <td>739</td>\n",
       "    </tr>\n",
       "    <tr>\n",
       "      <th>2</th>\n",
       "      <td>3</td>\n",
       "      <td>3784.2965</td>\n",
       "      <td>779</td>\n",
       "    </tr>\n",
       "  </tbody>\n",
       "</table>\n",
       "</div>"
      ],
      "text/plain": [
       "   sector_id  avg_deliveryTime  amount_orders\n",
       "0          1          961.8674            739\n",
       "1          2         1940.8539            739\n",
       "2          3         3784.2965            779"
      ]
     },
     "execution_count": 160,
     "metadata": {},
     "output_type": "execute_result"
    }
   ],
   "source": [
    "avg_del_by_sector"
   ]
  },
  {
   "cell_type": "code",
   "execution_count": 161,
   "metadata": {
    "jupyter": {
     "outputs_hidden": false
    },
    "pycharm": {
     "name": "#%%\n"
    }
   },
   "outputs": [],
   "source": [
    "rs_o_df = route_segments_df.merge(orders_df, how=\"left\", on=\"order_id\")\n",
    "rs_o_df[\"delivery_time\"]=(pd.to_datetime(rs_o_df['segment_end_time']) - pd.to_datetime(rs_o_df['segment_start_time'])).dt.total_seconds()\n",
    "\n",
    "# rs_o_df"
   ]
  },
  {
   "cell_type": "code",
   "execution_count": 162,
   "metadata": {},
   "outputs": [
    {
     "data": {
      "text/html": [
       "<div>\n",
       "<style scoped>\n",
       "    .dataframe tbody tr th:only-of-type {\n",
       "        vertical-align: middle;\n",
       "    }\n",
       "\n",
       "    .dataframe tbody tr th {\n",
       "        vertical-align: top;\n",
       "    }\n",
       "\n",
       "    .dataframe thead th {\n",
       "        text-align: right;\n",
       "    }\n",
       "</style>\n",
       "<table border=\"1\" class=\"dataframe\">\n",
       "  <thead>\n",
       "    <tr style=\"text-align: right;\">\n",
       "      <th></th>\n",
       "      <th>segment_id</th>\n",
       "      <th>driver_id</th>\n",
       "      <th>segment_type</th>\n",
       "      <th>order_id</th>\n",
       "      <th>segment_start_time</th>\n",
       "      <th>segment_end_time</th>\n",
       "      <th>customer_id</th>\n",
       "      <th>sector_id</th>\n",
       "      <th>planned_delivery_duration</th>\n",
       "      <th>delivery_time</th>\n",
       "    </tr>\n",
       "  </thead>\n",
       "  <tbody>\n",
       "    <tr>\n",
       "      <th>6</th>\n",
       "      <td>6</td>\n",
       "      <td>1</td>\n",
       "      <td>STOP</td>\n",
       "      <td>0</td>\n",
       "      <td>2024-02-24 20:03:27</td>\n",
       "      <td>2024-02-24 20:20:43</td>\n",
       "      <td>116</td>\n",
       "      <td>1</td>\n",
       "      <td>176</td>\n",
       "      <td>1036.0</td>\n",
       "    </tr>\n",
       "    <tr>\n",
       "      <th>12</th>\n",
       "      <td>12</td>\n",
       "      <td>1</td>\n",
       "      <td>STOP</td>\n",
       "      <td>2221</td>\n",
       "      <td>2024-02-16 04:37:40</td>\n",
       "      <td>2024-02-16 04:40:06</td>\n",
       "      <td>284</td>\n",
       "      <td>1</td>\n",
       "      <td>176</td>\n",
       "      <td>146.0</td>\n",
       "    </tr>\n",
       "    <tr>\n",
       "      <th>14</th>\n",
       "      <td>14</td>\n",
       "      <td>1</td>\n",
       "      <td>STOP</td>\n",
       "      <td>0</td>\n",
       "      <td>2024-02-16 04:16:00</td>\n",
       "      <td>2024-02-16 04:28:51</td>\n",
       "      <td>116</td>\n",
       "      <td>1</td>\n",
       "      <td>176</td>\n",
       "      <td>771.0</td>\n",
       "    </tr>\n",
       "    <tr>\n",
       "      <th>40</th>\n",
       "      <td>40</td>\n",
       "      <td>1</td>\n",
       "      <td>STOP</td>\n",
       "      <td>2129</td>\n",
       "      <td>2024-02-23 20:35:49</td>\n",
       "      <td>2024-02-23 20:36:38</td>\n",
       "      <td>68</td>\n",
       "      <td>1</td>\n",
       "      <td>177</td>\n",
       "      <td>49.0</td>\n",
       "    </tr>\n",
       "    <tr>\n",
       "      <th>73</th>\n",
       "      <td>73</td>\n",
       "      <td>1</td>\n",
       "      <td>STOP</td>\n",
       "      <td>0</td>\n",
       "      <td>2024-02-11 07:34:57</td>\n",
       "      <td>2024-02-11 07:52:56</td>\n",
       "      <td>116</td>\n",
       "      <td>1</td>\n",
       "      <td>176</td>\n",
       "      <td>1079.0</td>\n",
       "    </tr>\n",
       "    <tr>\n",
       "      <th>...</th>\n",
       "      <td>...</td>\n",
       "      <td>...</td>\n",
       "      <td>...</td>\n",
       "      <td>...</td>\n",
       "      <td>...</td>\n",
       "      <td>...</td>\n",
       "      <td>...</td>\n",
       "      <td>...</td>\n",
       "      <td>...</td>\n",
       "      <td>...</td>\n",
       "    </tr>\n",
       "    <tr>\n",
       "      <th>4890</th>\n",
       "      <td>4890</td>\n",
       "      <td>1</td>\n",
       "      <td>STOP</td>\n",
       "      <td>1699</td>\n",
       "      <td>2024-02-03 09:20:02</td>\n",
       "      <td>2024-02-03 09:21:25</td>\n",
       "      <td>294</td>\n",
       "      <td>1</td>\n",
       "      <td>170</td>\n",
       "      <td>83.0</td>\n",
       "    </tr>\n",
       "    <tr>\n",
       "      <th>4914</th>\n",
       "      <td>4914</td>\n",
       "      <td>1</td>\n",
       "      <td>STOP</td>\n",
       "      <td>0</td>\n",
       "      <td>2024-02-26 06:22:01</td>\n",
       "      <td>2024-02-26 06:33:06</td>\n",
       "      <td>116</td>\n",
       "      <td>1</td>\n",
       "      <td>176</td>\n",
       "      <td>665.0</td>\n",
       "    </tr>\n",
       "    <tr>\n",
       "      <th>4915</th>\n",
       "      <td>4915</td>\n",
       "      <td>1</td>\n",
       "      <td>STOP</td>\n",
       "      <td>2078</td>\n",
       "      <td>2024-02-05 19:14:14</td>\n",
       "      <td>2024-02-05 19:15:30</td>\n",
       "      <td>59</td>\n",
       "      <td>1</td>\n",
       "      <td>175</td>\n",
       "      <td>76.0</td>\n",
       "    </tr>\n",
       "    <tr>\n",
       "      <th>4949</th>\n",
       "      <td>4949</td>\n",
       "      <td>1</td>\n",
       "      <td>STOP</td>\n",
       "      <td>0</td>\n",
       "      <td>2024-02-01 05:07:48</td>\n",
       "      <td>2024-02-01 05:19:08</td>\n",
       "      <td>116</td>\n",
       "      <td>1</td>\n",
       "      <td>176</td>\n",
       "      <td>680.0</td>\n",
       "    </tr>\n",
       "    <tr>\n",
       "      <th>4972</th>\n",
       "      <td>4972</td>\n",
       "      <td>1</td>\n",
       "      <td>STOP</td>\n",
       "      <td>1950</td>\n",
       "      <td>2024-02-18 18:31:46</td>\n",
       "      <td>2024-02-18 18:32:46</td>\n",
       "      <td>187</td>\n",
       "      <td>1</td>\n",
       "      <td>175</td>\n",
       "      <td>60.0</td>\n",
       "    </tr>\n",
       "  </tbody>\n",
       "</table>\n",
       "<p>354 rows × 10 columns</p>\n",
       "</div>"
      ],
      "text/plain": [
       "      segment_id  driver_id segment_type  order_id   segment_start_time  \\\n",
       "6              6          1         STOP         0  2024-02-24 20:03:27   \n",
       "12            12          1         STOP      2221  2024-02-16 04:37:40   \n",
       "14            14          1         STOP         0  2024-02-16 04:16:00   \n",
       "40            40          1         STOP      2129  2024-02-23 20:35:49   \n",
       "73            73          1         STOP         0  2024-02-11 07:34:57   \n",
       "...          ...        ...          ...       ...                  ...   \n",
       "4890        4890          1         STOP      1699  2024-02-03 09:20:02   \n",
       "4914        4914          1         STOP         0  2024-02-26 06:22:01   \n",
       "4915        4915          1         STOP      2078  2024-02-05 19:14:14   \n",
       "4949        4949          1         STOP         0  2024-02-01 05:07:48   \n",
       "4972        4972          1         STOP      1950  2024-02-18 18:31:46   \n",
       "\n",
       "         segment_end_time  customer_id  sector_id  planned_delivery_duration  \\\n",
       "6     2024-02-24 20:20:43          116          1                        176   \n",
       "12    2024-02-16 04:40:06          284          1                        176   \n",
       "14    2024-02-16 04:28:51          116          1                        176   \n",
       "40    2024-02-23 20:36:38           68          1                        177   \n",
       "73    2024-02-11 07:52:56          116          1                        176   \n",
       "...                   ...          ...        ...                        ...   \n",
       "4890  2024-02-03 09:21:25          294          1                        170   \n",
       "4914  2024-02-26 06:33:06          116          1                        176   \n",
       "4915  2024-02-05 19:15:30           59          1                        175   \n",
       "4949  2024-02-01 05:19:08          116          1                        176   \n",
       "4972  2024-02-18 18:32:46          187          1                        175   \n",
       "\n",
       "      delivery_time  \n",
       "6            1036.0  \n",
       "12            146.0  \n",
       "14            771.0  \n",
       "40             49.0  \n",
       "73           1079.0  \n",
       "...             ...  \n",
       "4890           83.0  \n",
       "4914          665.0  \n",
       "4915           76.0  \n",
       "4949          680.0  \n",
       "4972           60.0  \n",
       "\n",
       "[354 rows x 10 columns]"
      ]
     },
     "execution_count": 162,
     "metadata": {},
     "output_type": "execute_result"
    }
   ],
   "source": [
    "grouped = rs_o_df[(rs_o_df['segment_type'] == \"STOP\") & (rs_o_df['sector_id'] == 1) & (rs_o_df['driver_id'] == 1)]\n",
    "grouped"
   ]
  },
  {
   "cell_type": "code",
   "execution_count": 187,
   "metadata": {},
   "outputs": [
    {
     "name": "stdout",
     "output_type": "stream",
     "text": [
      "{'Driver 1': [3.099105, 10.749275, 73.43494666666668], 'Driver 2': [11.55, 12.375543333333333, 173.88554166666665], 'Driver 3': [20.43936, 14.221775000000001, 7.232358333333334], 'Driver 4': [31.495785, 87.52299166666667, 14.920245]} {'Driver 1': [205, 161, 217], 'Driver 2': [183, 184, 166], 'Driver 3': [177, 199, 205], 'Driver 4': [174, 195, 191]} {'Driver 1': [6.6943463, 6.8493602000000005, 6.519023], 'Driver 2': [6.660305999999999, 6.295125, 6.4303373], 'Driver 3': [6.237853100000001, 5.9871709, 6.4897317], 'Driver 4': [6.8394483, 6.6110154, 6.9732513]}\n"
     ]
    },
    {
     "data": {
      "text/plain": [
       "[<matplotlib.axis.XTick at 0x7fb77a4d4b00>,\n",
       " <matplotlib.axis.XTick at 0x7fb77a4d4c18>,\n",
       " <matplotlib.axis.XTick at 0x7fb77a44af60>]"
      ]
     },
     "execution_count": 187,
     "metadata": {},
     "output_type": "execute_result"
    },
    {
     "data": {
      "image/png": "[encoded data removed]",
      "text/plain": [
       "<matplotlib.figure.Figure at 0x7fb77a525390>"
      ]
     },
     "metadata": {
      "needs_background": "light"
     },
     "output_type": "display_data"
    }
   ],
   "source": [
    "sectors = avg_del_by_driver[\"sector_id\"].unique()\n",
    "drivers = avg_del_by_driver[\"driver_id\"].unique()\n",
    "avg_dt_s = avg_del_by_driver[\"avg_deliveryTime\"].to_list()\n",
    "dt_set = {}\n",
    "aorders_set = {}\n",
    "order_weight_set = {}\n",
    "for driver_id in drivers:\n",
    "    dt_set[\"Driver \" + str(driver_id)] = (avg_del_by_driver[avg_del_by_driver[\"driver_id\"] == driver_id].sort_values(\"sector_id\")[\"avg_deliveryTime\"] / 60).to_list()\n",
    "    aorders_set[\"Driver \" + str(driver_id)] = avg_del_by_driver[avg_del_by_driver[\"driver_id\"] == driver_id].sort_values(\"sector_id\")[\"amount_orders\"].to_list()\n",
    "    order_weight_set[\"Driver \" + str(driver_id)] = (avg_del_by_driver[avg_del_by_driver[\"driver_id\"] == driver_id].sort_values(\"sector_id\")[\"avg_order_weight\"] /1000).to_list()\n",
    "    \n",
    "print(dt_set, aorders_set, order_weight_set)\n",
    "sf_plot = pd.DataFrame(dt_set, index=sectors)\n",
    "ao_plot = pd.DataFrame(aorders_set, index=sectors)\n",
    "fig, axes = plt.subplots(nrows=2)\n",
    "fig.set_figheight(5)\n",
    "fig.set_figwidth(5)\n",
    "sf_plot.plot.bar(rot=0, ax=axes[0])\n",
    "ao_plot.plot(ax=axes[1] )\n",
    "axes[0].set_ylabel(\"avg delivery time [min]\")\n",
    "axes[1].set_ylabel(\"orders\")\n",
    "axes[1].set_xticks(sectors)"
   ]
  },
  {
   "cell_type": "code",
   "execution_count": 164,
   "metadata": {},
   "outputs": [
    {
     "data": {
      "text/plain": [
       "Text(0.5,0,'sector')"
      ]
     },
     "execution_count": 164,
     "metadata": {},
     "output_type": "execute_result"
    },
    {
     "data": {
      "image/png": "[encoded data removed]",
      "text/plain": [
       "<matplotlib.figure.Figure at 0x7fb77af830b8>"
      ]
     },
     "metadata": {
      "needs_background": "light"
     },
     "output_type": "display_data"
    }
   ],
   "source": [
    "ax = sf_plot.plot.bar(stacked=True)\n",
    "ax.set_ylabel(\"avg delivery time [min]\")\n",
    "ax.set_xlabel(\"sector\")"
   ]
  },
  {
   "cell_type": "code",
   "execution_count": 188,
   "metadata": {},
   "outputs": [
    {
     "data": {
      "text/plain": [
       "Text(0.5,0,'sector')"
      ]
     },
     "execution_count": 188,
     "metadata": {},
     "output_type": "execute_result"
    },
    {
     "data": {
      "image/png": "[encoded data removed]",
      "text/plain": [
       "<matplotlib.figure.Figure at 0x7fb77a45ea58>"
      ]
     },
     "metadata": {
      "needs_background": "light"
     },
     "output_type": "display_data"
    }
   ],
   "source": [
    "ow_plot = pd.DataFrame(order_weight_set, index=sectors)\n",
    "ax = ow_plot.plot.bar()\n",
    "ax.set_ylabel(\"avg order weight [g]\")\n",
    "ax.set_xlabel(\"sector\")"
   ]
  },
  {
   "cell_type": "code",
   "execution_count": 165,
   "metadata": {},
   "outputs": [
    {
     "data": {
      "text/plain": [
       "<matplotlib.axes._subplots.AxesSubplot at 0x7fb77ad4f198>"
      ]
     },
     "execution_count": 165,
     "metadata": {},
     "output_type": "execute_result"
    },
    {
     "data": {
      "image/png": "[encoded data removed]",
      "text/plain": [
       "<matplotlib.figure.Figure at 0x7fb77afebe80>"
      ]
     },
     "metadata": {
      "needs_background": "light"
     },
     "output_type": "display_data"
    }
   ],
   "source": [
    "width = 0.4\n",
    "fig = plt.figure()\n",
    "ax1 = fig.add_subplot(111)\n",
    "avg_del_by_sector[\"avg_deliveryTime\"] = avg_del_by_sector[\"avg_deliveryTime\"] /60 \n",
    "# plt.xticks(np.arange(len(sectors)), sectors)\n",
    "\n",
    "ax1.set_ylabel(\"avg delivery time [min]\")\n",
    "\n",
    "ax2 = ax1.twinx()\n",
    "ax2.set_ylabel(\"amount of orders\")\n",
    "\n",
    "avg_del_by_sector.amount_orders.plot(kind='bar', color='red', ax=ax1,width=width, position=0)\n",
    "avg_del_by_sector.avg_deliveryTime.plot(kind='bar', color='blue', ax=ax2, width=width, position=1)\n"
   ]
  },
  {
   "cell_type": "code",
   "execution_count": 166,
   "metadata": {},
   "outputs": [
    {
     "data": {
      "text/plain": [
       "array([<matplotlib.axes._subplots.AxesSubplot object at 0x7fb77ada3f98>,\n",
       "       <matplotlib.axes._subplots.AxesSubplot object at 0x7fb77ac83978>],\n",
       "      dtype=object)"
      ]
     },
     "execution_count": 166,
     "metadata": {},
     "output_type": "execute_result"
    },
    {
     "data": {
      "image/png": "[encoded data removed]",
      "text/plain": [
       "<matplotlib.figure.Figure at 0x7fb77ad8d2e8>"
      ]
     },
     "metadata": {
      "needs_background": "light"
     },
     "output_type": "display_data"
    }
   ],
   "source": [
    "df_plot = pd.DataFrame({\"Orders Amount\": avg_del_by_sector[\"amount_orders\"].to_list(), \"AVG Delivery time\": avg_del_by_sector[\"avg_deliveryTime\"].to_list()}, index=sectors)\n",
    "df_plot.plot.bar(rot=0, subplots=True, xlabel=\"sectors\")\n"
   ]
  },
  {
   "cell_type": "code",
   "execution_count": 177,
   "metadata": {},
   "outputs": [
    {
     "data": {
      "text/plain": [
       "[<matplotlib.axis.XTick at 0x7fb77b500908>,\n",
       " <matplotlib.axis.XTick at 0x7fb77b25cf60>,\n",
       " <matplotlib.axis.XTick at 0x7fb77b5140b8>]"
      ]
     },
     "execution_count": 177,
     "metadata": {},
     "output_type": "execute_result"
    },
    {
     "data": {
      "image/png": "[encoded data removed]",
      "text/plain": [
       "<matplotlib.figure.Figure at 0x7fb77b321940>"
      ]
     },
     "metadata": {
      "needs_background": "light"
     },
     "output_type": "display_data"
    }
   ],
   "source": [
    "# wastedT_df.plot.bar()\n",
    "wastedTime = wastedT_df[\"avg_WastedTimeByStop\"].to_list()\n",
    "drivers = wastedT_df[\"driver_id\"].unique()\n",
    "stops = wastedT_df[\"stops_count\"].to_list()\n",
    "\n",
    "dt_set = {\"Stops\": stops, \"TimaWasted\": wastedTime}\n",
    "sf_plot = pd.DataFrame(dt_set, index=drivers)\n",
    "\n",
    "fig, axes = plt.subplots(nrows=2)\n",
    "fig.set_figheight(5)\n",
    "fig.set_figwidth(5)\n",
    "sf_plot.plot.bar(rot=0, ax=axes[0])\n",
    "axes[1].set_ylabel(\"orders\")\n",
    "axes[1].set_xticks(sectors)"
   ]
  },
  {
   "cell_type": "markdown",
   "metadata": {},
   "source": [
    "-- Select order_id, sum(weight * quantity) as order_weight from orders_products natural left join products group by order_id;\n",
    "SELECT sector_id, driver_id, AVG((segment_end_time - segment_start_time)) / 60 as avg_deliveryTime, count(*) as amount_orders, order_weight, avg_order_weight  FROM droptime.route_segments natural left join orders natural left join \n",
    "( Select order_id, sum(weight * quantity) as order_weight, avg(weight * quantity) as avg_order_weight from orders_products natural left join products group by order_id ) as order_weight\n",
    " where segment_type = \"STOP\" and sector_id is not null group by sector_id, driver_id order by avg_deliveryTime DESC;"
   ]
  }
 ],
 "metadata": {
  "kernelspec": {
   "display_name": "Python 3",
   "language": "python",
   "name": "python3"
  },
  "language_info": {
   "codemirror_mode": {
    "name": "ipython",
    "version": 3
   },
   "file_extension": ".py",
   "mimetype": "text/x-python",
   "name": "python",
   "nbconvert_exporter": "python",
   "pygments_lexer": "ipython3",
   "version": "3.6.9"
  },
  "pycharm": {
   "stem_cell": {
    "cell_type": "raw",
    "metadata": {
     "collapsed": false
    },
    "source": []
   }
  }
 },
 "nbformat": 4,
 "nbformat_minor": 4
}
