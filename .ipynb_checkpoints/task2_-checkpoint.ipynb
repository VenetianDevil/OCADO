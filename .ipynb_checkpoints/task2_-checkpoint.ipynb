{
 "cells": [
  {
   "cell_type": "code",
   "execution_count": 119,
   "metadata": {
    "pycharm": {
     "name": "#%%\n"
    }
   },
   "outputs": [],
   "source": [
    "import pandas as pd\n",
    "import matplotlib.pyplot as plt\n",
    "import numpy as np\n",
    "\n",
    "orders_df = pd.read_csv(\"./orders.csv\", sep=\";\")\n",
    "orders_products_df = pd.read_csv(\"./orders_products.csv\", sep=\";\")\n",
    "products_df = pd.read_csv(\"./products.csv\", sep=\";\")\n",
    "route_segments_df = pd.read_csv(\"./route_segments.csv\", sep=\";\")"
   ]
  },
  {
   "cell_type": "code",
   "execution_count": 88,
   "metadata": {},
   "outputs": [],
   "source": [
    "wastedT_df = pd.read_csv(\"./drivers_wasted.csv\")\n",
    "avg_del_by_driver = pd.read_csv(\"./drivers_avg_delivery_data.csv\")\n",
    "avg_del_by_sector = pd.read_csv(\"setor_avg_delivery_data.csv\")"
   ]
  },
  {
   "cell_type": "code",
   "execution_count": 89,
   "metadata": {},
   "outputs": [
    {
     "data": {
      "text/html": [
       "<div>\n",
       "<style scoped>\n",
       "    .dataframe tbody tr th:only-of-type {\n",
       "        vertical-align: middle;\n",
       "    }\n",
       "\n",
       "    .dataframe tbody tr th {\n",
       "        vertical-align: top;\n",
       "    }\n",
       "\n",
       "    .dataframe thead th {\n",
       "        text-align: right;\n",
       "    }\n",
       "</style>\n",
       "<table border=\"1\" class=\"dataframe\">\n",
       "  <thead>\n",
       "    <tr style=\"text-align: right;\">\n",
       "      <th></th>\n",
       "      <th>driver_id</th>\n",
       "      <th>WastedTime</th>\n",
       "      <th>avg_WastedTimeByStop</th>\n",
       "      <th>stops_count</th>\n",
       "    </tr>\n",
       "  </thead>\n",
       "  <tbody>\n",
       "    <tr>\n",
       "      <th>0</th>\n",
       "      <td>1</td>\n",
       "      <td>1891499</td>\n",
       "      <td>2598.2129</td>\n",
       "      <td>728</td>\n",
       "    </tr>\n",
       "    <tr>\n",
       "      <th>1</th>\n",
       "      <td>2</td>\n",
       "      <td>796593</td>\n",
       "      <td>1270.4833</td>\n",
       "      <td>627</td>\n",
       "    </tr>\n",
       "    <tr>\n",
       "      <th>2</th>\n",
       "      <td>3</td>\n",
       "      <td>1031717</td>\n",
       "      <td>1438.9358</td>\n",
       "      <td>717</td>\n",
       "    </tr>\n",
       "    <tr>\n",
       "      <th>3</th>\n",
       "      <td>4</td>\n",
       "      <td>1025336</td>\n",
       "      <td>1548.8459</td>\n",
       "      <td>662</td>\n",
       "    </tr>\n",
       "  </tbody>\n",
       "</table>\n",
       "</div>"
      ],
      "text/plain": [
       "   driver_id  WastedTime  avg_WastedTimeByStop  stops_count\n",
       "0          1     1891499             2598.2129          728\n",
       "1          2      796593             1270.4833          627\n",
       "2          3     1031717             1438.9358          717\n",
       "3          4     1025336             1548.8459          662"
      ]
     },
     "execution_count": 89,
     "metadata": {},
     "output_type": "execute_result"
    }
   ],
   "source": [
    "wastedT_df"
   ]
  },
  {
   "cell_type": "code",
   "execution_count": 90,
   "metadata": {},
   "outputs": [
    {
     "data": {
      "text/html": [
       "<div>\n",
       "<style scoped>\n",
       "    .dataframe tbody tr th:only-of-type {\n",
       "        vertical-align: middle;\n",
       "    }\n",
       "\n",
       "    .dataframe tbody tr th {\n",
       "        vertical-align: top;\n",
       "    }\n",
       "\n",
       "    .dataframe thead th {\n",
       "        text-align: right;\n",
       "    }\n",
       "</style>\n",
       "<table border=\"1\" class=\"dataframe\">\n",
       "  <thead>\n",
       "    <tr style=\"text-align: right;\">\n",
       "      <th></th>\n",
       "      <th>sector_id</th>\n",
       "      <th>driver_id</th>\n",
       "      <th>avg_deliveryTime</th>\n",
       "      <th>amount_orders</th>\n",
       "      <th>avg_order_weight</th>\n",
       "    </tr>\n",
       "  </thead>\n",
       "  <tbody>\n",
       "    <tr>\n",
       "      <th>0</th>\n",
       "      <td>1</td>\n",
       "      <td>1</td>\n",
       "      <td>185.9463</td>\n",
       "      <td>205</td>\n",
       "      <td>6694.3463</td>\n",
       "    </tr>\n",
       "    <tr>\n",
       "      <th>1</th>\n",
       "      <td>1</td>\n",
       "      <td>2</td>\n",
       "      <td>693.0000</td>\n",
       "      <td>183</td>\n",
       "      <td>6660.3060</td>\n",
       "    </tr>\n",
       "    <tr>\n",
       "      <th>2</th>\n",
       "      <td>1</td>\n",
       "      <td>3</td>\n",
       "      <td>1226.3616</td>\n",
       "      <td>177</td>\n",
       "      <td>6237.8531</td>\n",
       "    </tr>\n",
       "    <tr>\n",
       "      <th>3</th>\n",
       "      <td>1</td>\n",
       "      <td>4</td>\n",
       "      <td>1889.7471</td>\n",
       "      <td>174</td>\n",
       "      <td>6839.4483</td>\n",
       "    </tr>\n",
       "    <tr>\n",
       "      <th>4</th>\n",
       "      <td>2</td>\n",
       "      <td>1</td>\n",
       "      <td>644.9565</td>\n",
       "      <td>161</td>\n",
       "      <td>6849.3602</td>\n",
       "    </tr>\n",
       "    <tr>\n",
       "      <th>5</th>\n",
       "      <td>2</td>\n",
       "      <td>2</td>\n",
       "      <td>742.5326</td>\n",
       "      <td>184</td>\n",
       "      <td>6295.1250</td>\n",
       "    </tr>\n",
       "    <tr>\n",
       "      <th>6</th>\n",
       "      <td>2</td>\n",
       "      <td>3</td>\n",
       "      <td>853.3065</td>\n",
       "      <td>199</td>\n",
       "      <td>5987.1709</td>\n",
       "    </tr>\n",
       "    <tr>\n",
       "      <th>7</th>\n",
       "      <td>2</td>\n",
       "      <td>4</td>\n",
       "      <td>5251.3795</td>\n",
       "      <td>195</td>\n",
       "      <td>6611.0154</td>\n",
       "    </tr>\n",
       "    <tr>\n",
       "      <th>8</th>\n",
       "      <td>3</td>\n",
       "      <td>1</td>\n",
       "      <td>4406.0968</td>\n",
       "      <td>217</td>\n",
       "      <td>6519.0230</td>\n",
       "    </tr>\n",
       "    <tr>\n",
       "      <th>9</th>\n",
       "      <td>3</td>\n",
       "      <td>2</td>\n",
       "      <td>10433.1325</td>\n",
       "      <td>166</td>\n",
       "      <td>6430.3373</td>\n",
       "    </tr>\n",
       "    <tr>\n",
       "      <th>10</th>\n",
       "      <td>3</td>\n",
       "      <td>3</td>\n",
       "      <td>433.9415</td>\n",
       "      <td>205</td>\n",
       "      <td>6489.7317</td>\n",
       "    </tr>\n",
       "    <tr>\n",
       "      <th>11</th>\n",
       "      <td>3</td>\n",
       "      <td>4</td>\n",
       "      <td>895.2147</td>\n",
       "      <td>191</td>\n",
       "      <td>6973.2513</td>\n",
       "    </tr>\n",
       "  </tbody>\n",
       "</table>\n",
       "</div>"
      ],
      "text/plain": [
       "    sector_id  driver_id  avg_deliveryTime  amount_orders  avg_order_weight\n",
       "0           1          1          185.9463            205         6694.3463\n",
       "1           1          2          693.0000            183         6660.3060\n",
       "2           1          3         1226.3616            177         6237.8531\n",
       "3           1          4         1889.7471            174         6839.4483\n",
       "4           2          1          644.9565            161         6849.3602\n",
       "5           2          2          742.5326            184         6295.1250\n",
       "6           2          3          853.3065            199         5987.1709\n",
       "7           2          4         5251.3795            195         6611.0154\n",
       "8           3          1         4406.0968            217         6519.0230\n",
       "9           3          2        10433.1325            166         6430.3373\n",
       "10          3          3          433.9415            205         6489.7317\n",
       "11          3          4          895.2147            191         6973.2513"
      ]
     },
     "execution_count": 90,
     "metadata": {},
     "output_type": "execute_result"
    }
   ],
   "source": [
    "avg_del_by_driver"
   ]
  },
  {
   "cell_type": "code",
   "execution_count": 91,
   "metadata": {},
   "outputs": [
    {
     "data": {
      "text/html": [
       "<div>\n",
       "<style scoped>\n",
       "    .dataframe tbody tr th:only-of-type {\n",
       "        vertical-align: middle;\n",
       "    }\n",
       "\n",
       "    .dataframe tbody tr th {\n",
       "        vertical-align: top;\n",
       "    }\n",
       "\n",
       "    .dataframe thead th {\n",
       "        text-align: right;\n",
       "    }\n",
       "</style>\n",
       "<table border=\"1\" class=\"dataframe\">\n",
       "  <thead>\n",
       "    <tr style=\"text-align: right;\">\n",
       "      <th></th>\n",
       "      <th>sector_id</th>\n",
       "      <th>avg_deliveryTime</th>\n",
       "      <th>amount_orders</th>\n",
       "    </tr>\n",
       "  </thead>\n",
       "  <tbody>\n",
       "    <tr>\n",
       "      <th>0</th>\n",
       "      <td>1</td>\n",
       "      <td>961.8674</td>\n",
       "      <td>739</td>\n",
       "    </tr>\n",
       "    <tr>\n",
       "      <th>1</th>\n",
       "      <td>2</td>\n",
       "      <td>1940.8539</td>\n",
       "      <td>739</td>\n",
       "    </tr>\n",
       "    <tr>\n",
       "      <th>2</th>\n",
       "      <td>3</td>\n",
       "      <td>3784.2965</td>\n",
       "      <td>779</td>\n",
       "    </tr>\n",
       "  </tbody>\n",
       "</table>\n",
       "</div>"
      ],
      "text/plain": [
       "   sector_id  avg_deliveryTime  amount_orders\n",
       "0          1          961.8674            739\n",
       "1          2         1940.8539            739\n",
       "2          3         3784.2965            779"
      ]
     },
     "execution_count": 91,
     "metadata": {},
     "output_type": "execute_result"
    }
   ],
   "source": [
    "avg_del_by_sector"
   ]
  },
  {
   "cell_type": "code",
   "execution_count": 92,
   "metadata": {
    "jupyter": {
     "outputs_hidden": false
    },
    "pycharm": {
     "name": "#%%\n"
    }
   },
   "outputs": [],
   "source": [
    "rs_o_df = route_segments_df.merge(orders_df, how=\"left\", on=\"order_id\")\n",
    "rs_o_df[\"delivery_time\"]=(pd.to_datetime(rs_o_df['segment_end_time']) - pd.to_datetime(rs_o_df['segment_start_time'])).dt.total_seconds()\n",
    "\n",
    "# rs_o_df"
   ]
  },
  {
   "cell_type": "code",
   "execution_count": 93,
   "metadata": {},
   "outputs": [
    {
     "data": {
      "text/html": [
       "<div>\n",
       "<style scoped>\n",
       "    .dataframe tbody tr th:only-of-type {\n",
       "        vertical-align: middle;\n",
       "    }\n",
       "\n",
       "    .dataframe tbody tr th {\n",
       "        vertical-align: top;\n",
       "    }\n",
       "\n",
       "    .dataframe thead th {\n",
       "        text-align: right;\n",
       "    }\n",
       "</style>\n",
       "<table border=\"1\" class=\"dataframe\">\n",
       "  <thead>\n",
       "    <tr style=\"text-align: right;\">\n",
       "      <th></th>\n",
       "      <th>segment_id</th>\n",
       "      <th>driver_id</th>\n",
       "      <th>segment_type</th>\n",
       "      <th>order_id</th>\n",
       "      <th>segment_start_time</th>\n",
       "      <th>segment_end_time</th>\n",
       "      <th>customer_id</th>\n",
       "      <th>sector_id</th>\n",
       "      <th>planned_delivery_duration</th>\n",
       "      <th>delivery_time</th>\n",
       "    </tr>\n",
       "  </thead>\n",
       "  <tbody>\n",
       "    <tr>\n",
       "      <th>6</th>\n",
       "      <td>6</td>\n",
       "      <td>1</td>\n",
       "      <td>STOP</td>\n",
       "      <td>0</td>\n",
       "      <td>2024-02-24 20:03:27</td>\n",
       "      <td>2024-02-24 20:20:43</td>\n",
       "      <td>116</td>\n",
       "      <td>1</td>\n",
       "      <td>176</td>\n",
       "      <td>1036.0</td>\n",
       "    </tr>\n",
       "    <tr>\n",
       "      <th>12</th>\n",
       "      <td>12</td>\n",
       "      <td>1</td>\n",
       "      <td>STOP</td>\n",
       "      <td>2221</td>\n",
       "      <td>2024-02-16 04:37:40</td>\n",
       "      <td>2024-02-16 04:40:06</td>\n",
       "      <td>284</td>\n",
       "      <td>1</td>\n",
       "      <td>176</td>\n",
       "      <td>146.0</td>\n",
       "    </tr>\n",
       "    <tr>\n",
       "      <th>14</th>\n",
       "      <td>14</td>\n",
       "      <td>1</td>\n",
       "      <td>STOP</td>\n",
       "      <td>0</td>\n",
       "      <td>2024-02-16 04:16:00</td>\n",
       "      <td>2024-02-16 04:28:51</td>\n",
       "      <td>116</td>\n",
       "      <td>1</td>\n",
       "      <td>176</td>\n",
       "      <td>771.0</td>\n",
       "    </tr>\n",
       "    <tr>\n",
       "      <th>40</th>\n",
       "      <td>40</td>\n",
       "      <td>1</td>\n",
       "      <td>STOP</td>\n",
       "      <td>2129</td>\n",
       "      <td>2024-02-23 20:35:49</td>\n",
       "      <td>2024-02-23 20:36:38</td>\n",
       "      <td>68</td>\n",
       "      <td>1</td>\n",
       "      <td>177</td>\n",
       "      <td>49.0</td>\n",
       "    </tr>\n",
       "    <tr>\n",
       "      <th>73</th>\n",
       "      <td>73</td>\n",
       "      <td>1</td>\n",
       "      <td>STOP</td>\n",
       "      <td>0</td>\n",
       "      <td>2024-02-11 07:34:57</td>\n",
       "      <td>2024-02-11 07:52:56</td>\n",
       "      <td>116</td>\n",
       "      <td>1</td>\n",
       "      <td>176</td>\n",
       "      <td>1079.0</td>\n",
       "    </tr>\n",
       "    <tr>\n",
       "      <th>...</th>\n",
       "      <td>...</td>\n",
       "      <td>...</td>\n",
       "      <td>...</td>\n",
       "      <td>...</td>\n",
       "      <td>...</td>\n",
       "      <td>...</td>\n",
       "      <td>...</td>\n",
       "      <td>...</td>\n",
       "      <td>...</td>\n",
       "      <td>...</td>\n",
       "    </tr>\n",
       "    <tr>\n",
       "      <th>4890</th>\n",
       "      <td>4890</td>\n",
       "      <td>1</td>\n",
       "      <td>STOP</td>\n",
       "      <td>1699</td>\n",
       "      <td>2024-02-03 09:20:02</td>\n",
       "      <td>2024-02-03 09:21:25</td>\n",
       "      <td>294</td>\n",
       "      <td>1</td>\n",
       "      <td>170</td>\n",
       "      <td>83.0</td>\n",
       "    </tr>\n",
       "    <tr>\n",
       "      <th>4914</th>\n",
       "      <td>4914</td>\n",
       "      <td>1</td>\n",
       "      <td>STOP</td>\n",
       "      <td>0</td>\n",
       "      <td>2024-02-26 06:22:01</td>\n",
       "      <td>2024-02-26 06:33:06</td>\n",
       "      <td>116</td>\n",
       "      <td>1</td>\n",
       "      <td>176</td>\n",
       "      <td>665.0</td>\n",
       "    </tr>\n",
       "    <tr>\n",
       "      <th>4915</th>\n",
       "      <td>4915</td>\n",
       "      <td>1</td>\n",
       "      <td>STOP</td>\n",
       "      <td>2078</td>\n",
       "      <td>2024-02-05 19:14:14</td>\n",
       "      <td>2024-02-05 19:15:30</td>\n",
       "      <td>59</td>\n",
       "      <td>1</td>\n",
       "      <td>175</td>\n",
       "      <td>76.0</td>\n",
       "    </tr>\n",
       "    <tr>\n",
       "      <th>4949</th>\n",
       "      <td>4949</td>\n",
       "      <td>1</td>\n",
       "      <td>STOP</td>\n",
       "      <td>0</td>\n",
       "      <td>2024-02-01 05:07:48</td>\n",
       "      <td>2024-02-01 05:19:08</td>\n",
       "      <td>116</td>\n",
       "      <td>1</td>\n",
       "      <td>176</td>\n",
       "      <td>680.0</td>\n",
       "    </tr>\n",
       "    <tr>\n",
       "      <th>4972</th>\n",
       "      <td>4972</td>\n",
       "      <td>1</td>\n",
       "      <td>STOP</td>\n",
       "      <td>1950</td>\n",
       "      <td>2024-02-18 18:31:46</td>\n",
       "      <td>2024-02-18 18:32:46</td>\n",
       "      <td>187</td>\n",
       "      <td>1</td>\n",
       "      <td>175</td>\n",
       "      <td>60.0</td>\n",
       "    </tr>\n",
       "  </tbody>\n",
       "</table>\n",
       "<p>354 rows × 10 columns</p>\n",
       "</div>"
      ],
      "text/plain": [
       "      segment_id  driver_id segment_type  order_id   segment_start_time  \\\n",
       "6              6          1         STOP         0  2024-02-24 20:03:27   \n",
       "12            12          1         STOP      2221  2024-02-16 04:37:40   \n",
       "14            14          1         STOP         0  2024-02-16 04:16:00   \n",
       "40            40          1         STOP      2129  2024-02-23 20:35:49   \n",
       "73            73          1         STOP         0  2024-02-11 07:34:57   \n",
       "...          ...        ...          ...       ...                  ...   \n",
       "4890        4890          1         STOP      1699  2024-02-03 09:20:02   \n",
       "4914        4914          1         STOP         0  2024-02-26 06:22:01   \n",
       "4915        4915          1         STOP      2078  2024-02-05 19:14:14   \n",
       "4949        4949          1         STOP         0  2024-02-01 05:07:48   \n",
       "4972        4972          1         STOP      1950  2024-02-18 18:31:46   \n",
       "\n",
       "         segment_end_time  customer_id  sector_id  planned_delivery_duration  \\\n",
       "6     2024-02-24 20:20:43          116          1                        176   \n",
       "12    2024-02-16 04:40:06          284          1                        176   \n",
       "14    2024-02-16 04:28:51          116          1                        176   \n",
       "40    2024-02-23 20:36:38           68          1                        177   \n",
       "73    2024-02-11 07:52:56          116          1                        176   \n",
       "...                   ...          ...        ...                        ...   \n",
       "4890  2024-02-03 09:21:25          294          1                        170   \n",
       "4914  2024-02-26 06:33:06          116          1                        176   \n",
       "4915  2024-02-05 19:15:30           59          1                        175   \n",
       "4949  2024-02-01 05:19:08          116          1                        176   \n",
       "4972  2024-02-18 18:32:46          187          1                        175   \n",
       "\n",
       "      delivery_time  \n",
       "6            1036.0  \n",
       "12            146.0  \n",
       "14            771.0  \n",
       "40             49.0  \n",
       "73           1079.0  \n",
       "...             ...  \n",
       "4890           83.0  \n",
       "4914          665.0  \n",
       "4915           76.0  \n",
       "4949          680.0  \n",
       "4972           60.0  \n",
       "\n",
       "[354 rows x 10 columns]"
      ]
     },
     "execution_count": 93,
     "metadata": {},
     "output_type": "execute_result"
    }
   ],
   "source": [
    "grouped = rs_o_df[(rs_o_df['segment_type'] == \"STOP\") & (rs_o_df['sector_id'] == 1) & (rs_o_df['driver_id'] == 1)]\n",
    "grouped"
   ]
  },
  {
   "cell_type": "code",
   "execution_count": 94,
   "metadata": {},
   "outputs": [
    {
     "name": "stdout",
     "output_type": "stream",
     "text": [
      "{'Driver 1': [3.099105, 10.749275, 73.43494666666668], 'Driver 2': [11.55, 12.375543333333333, 173.88554166666665], 'Driver 3': [20.43936, 14.221775000000001, 7.232358333333334], 'Driver 4': [31.495785, 87.52299166666667, 14.920245]} {'Driver 1': [205, 161, 217], 'Driver 2': [183, 184, 166], 'Driver 3': [177, 199, 205], 'Driver 4': [174, 195, 191]}\n"
     ]
    },
    {
     "data": {
      "text/plain": [
       "[<matplotlib.axis.XTick at 0x7fb77c7145c0>,\n",
       " <matplotlib.axis.XTick at 0x7fb77c726d30>,\n",
       " <matplotlib.axis.XTick at 0x7fb77c88b208>]"
      ]
     },
     "execution_count": 94,
     "metadata": {},
     "output_type": "execute_result"
    },
    {
     "data": {
      "image/png": "[encoded data removed]",
      "text/plain": [
       "<matplotlib.figure.Figure at 0x7fb77c7b9048>"
      ]
     },
     "metadata": {
      "needs_background": "light"
     },
     "output_type": "display_data"
    }
   ],
   "source": [
    "sectors = avg_del_by_driver[\"sector_id\"].unique()\n",
    "drivers = avg_del_by_driver[\"driver_id\"].unique()\n",
    "avg_dt_s = avg_del_by_driver[\"avg_deliveryTime\"].to_list()\n",
    "dt_set = {}\n",
    "aorders_set = {}\n",
    "for driver_id in drivers:\n",
    "    dt_set[\"Driver \" + str(driver_id)] = (avg_del_by_driver[avg_del_by_driver[\"driver_id\"] == driver_id].sort_values(\"sector_id\")[\"avg_deliveryTime\"] / 60).to_list()\n",
    "    aorders_set[\"Driver \" + str(driver_id)] = avg_del_by_driver[avg_del_by_driver[\"driver_id\"] == driver_id].sort_values(\"sector_id\")[\"amount_orders\"].to_list()\n",
    "    \n",
    "print(dt_set, aorders_set)\n",
    "sf_plot = pd.DataFrame(dt_set, index=sectors)\n",
    "ao_plot = pd.DataFrame(aorders_set, index=sectors)\n",
    "fig, axes = plt.subplots(nrows=2)\n",
    "fig.set_figheight(5)\n",
    "fig.set_figwidth(5)\n",
    "sf_plot.plot.bar(rot=0, ax=axes[0])\n",
    "ao_plot.plot(ax=axes[1] )\n",
    "axes[0].set_ylabel(\"avg delivery time [min]\")\n",
    "axes[1].set_ylabel(\"orders\")\n",
    "axes[1].set_xticks(sectors)"
   ]
  },
  {
   "cell_type": "code",
   "execution_count": 95,
   "metadata": {},
   "outputs": [
    {
     "data": {
      "text/plain": [
       "Text(0.5,0,'sector')"
      ]
     },
     "execution_count": 95,
     "metadata": {},
     "output_type": "execute_result"
    },
    {
     "data": {
      "image/png": "[encoded data removed]",
      "text/plain": [
       "<matplotlib.figure.Figure at 0x7fb77c8700b8>"
      ]
     },
     "metadata": {
      "needs_background": "light"
     },
     "output_type": "display_data"
    }
   ],
   "source": [
    "ax = sf_plot.plot.bar(stacked=True)\n",
    "ax.set_ylabel(\"avg delivery time [min]\")\n",
    "ax.set_xlabel(\"sector\")"
   ]
  },
  {
   "cell_type": "code",
   "execution_count": 148,
   "metadata": {},
   "outputs": [
    {
     "ename": "TypeError",
     "evalue": "set_xticks() got an unexpected keyword argument 'labels'",
     "output_type": "error",
     "traceback": [
      "\u001b[0;31m---------------------------------------------------------------------------\u001b[0m",
      "\u001b[0;31mTypeError\u001b[0m                                 Traceback (most recent call last)",
      "\u001b[0;32m<ipython-input-148-ec8c257e0a66>\u001b[0m in \u001b[0;36m<module>\u001b[0;34m\u001b[0m\n\u001b[1;32m     12\u001b[0m \u001b[0mavg_del_by_sector\u001b[0m\u001b[0;34m.\u001b[0m\u001b[0mamount_orders\u001b[0m\u001b[0;34m.\u001b[0m\u001b[0mplot\u001b[0m\u001b[0;34m(\u001b[0m\u001b[0mkind\u001b[0m\u001b[0;34m=\u001b[0m\u001b[0;34m'bar'\u001b[0m\u001b[0;34m,\u001b[0m \u001b[0mcolor\u001b[0m\u001b[0;34m=\u001b[0m\u001b[0;34m'red'\u001b[0m\u001b[0;34m,\u001b[0m \u001b[0max\u001b[0m\u001b[0;34m=\u001b[0m\u001b[0max1\u001b[0m\u001b[0;34m,\u001b[0m\u001b[0mwidth\u001b[0m\u001b[0;34m=\u001b[0m\u001b[0mwidth\u001b[0m\u001b[0;34m,\u001b[0m \u001b[0mposition\u001b[0m\u001b[0;34m=\u001b[0m\u001b[0;36m0\u001b[0m\u001b[0;34m)\u001b[0m\u001b[0;34m\u001b[0m\u001b[0;34m\u001b[0m\u001b[0m\n\u001b[1;32m     13\u001b[0m \u001b[0mavg_del_by_sector\u001b[0m\u001b[0;34m.\u001b[0m\u001b[0mavg_deliveryTime\u001b[0m\u001b[0;34m.\u001b[0m\u001b[0mplot\u001b[0m\u001b[0;34m(\u001b[0m\u001b[0mkind\u001b[0m\u001b[0;34m=\u001b[0m\u001b[0;34m'bar'\u001b[0m\u001b[0;34m,\u001b[0m \u001b[0mcolor\u001b[0m\u001b[0;34m=\u001b[0m\u001b[0;34m'blue'\u001b[0m\u001b[0;34m,\u001b[0m \u001b[0max\u001b[0m\u001b[0;34m=\u001b[0m\u001b[0max2\u001b[0m\u001b[0;34m,\u001b[0m \u001b[0mwidth\u001b[0m\u001b[0;34m=\u001b[0m\u001b[0mwidth\u001b[0m\u001b[0;34m,\u001b[0m \u001b[0mposition\u001b[0m\u001b[0;34m=\u001b[0m\u001b[0;36m1\u001b[0m\u001b[0;34m)\u001b[0m\u001b[0;34m\u001b[0m\u001b[0;34m\u001b[0m\u001b[0m\n\u001b[0;32m---> 14\u001b[0;31m \u001b[0max1\u001b[0m\u001b[0;34m.\u001b[0m\u001b[0mset_xticks\u001b[0m\u001b[0;34m(\u001b[0m\u001b[0mnp\u001b[0m\u001b[0;34m.\u001b[0m\u001b[0marange\u001b[0m\u001b[0;34m(\u001b[0m\u001b[0;36m3\u001b[0m\u001b[0;34m)\u001b[0m\u001b[0;34m,\u001b[0m \u001b[0mlabels\u001b[0m\u001b[0;34m=\u001b[0m\u001b[0msectors\u001b[0m\u001b[0;34m)\u001b[0m\u001b[0;34m\u001b[0m\u001b[0;34m\u001b[0m\u001b[0m\n\u001b[0m",
      "\u001b[0;31mTypeError\u001b[0m: set_xticks() got an unexpected keyword argument 'labels'"
     ]
    },
    {
     "data": {
      "image/png": "[encoded data removed]",
      "text/plain": [
       "<matplotlib.figure.Figure at 0x7fb77b340208>"
      ]
     },
     "metadata": {
      "needs_background": "light"
     },
     "output_type": "display_data"
    }
   ],
   "source": [
    "width = 0.4\n",
    "fig = plt.figure()\n",
    "ax1 = fig.add_subplot(111)\n",
    "avg_del_by_sector[\"avg_deliveryTime\"] = avg_del_by_sector[\"avg_deliveryTime\"] /60 \n",
    "# plt.xticks(np.arange(len(sectors)), sectors)\n",
    "\n",
    "ax1.set_ylabel(\"avg delivery time [min]\")\n",
    "\n",
    "ax2 = ax1.twinx()\n",
    "ax2.set_ylabel(\"amount of orders\")\n",
    "\n",
    "avg_del_by_sector.amount_orders.plot(kind='bar', color='red', ax=ax1,width=width, position=0)\n",
    "avg_del_by_sector.avg_deliveryTime.plot(kind='bar', color='blue', ax=ax2, width=width, position=1)\n"
   ]
  },
  {
   "cell_type": "code",
   "execution_count": 138,
   "metadata": {},
   "outputs": [
    {
     "data": {
      "text/plain": [
       "array([<matplotlib.axes._subplots.AxesSubplot object at 0x7fb77b8cbe80>,\n",
       "       <matplotlib.axes._subplots.AxesSubplot object at 0x7fb77b79cda0>],\n",
       "      dtype=object)"
      ]
     },
     "execution_count": 138,
     "metadata": {},
     "output_type": "execute_result"
    },
    {
     "data": {
      "image/png": "[encoded data removed]",
      "text/plain": [
       "<matplotlib.figure.Figure at 0x7fb77b836cc0>"
      ]
     },
     "metadata": {
      "needs_background": "light"
     },
     "output_type": "display_data"
    }
   ],
   "source": [
    "df_plot = pd.DataFrame({\"AO\": avg_del_by_sector[\"amount_orders\"].to_list(), \"DT\": avg_del_by_sector[\"avg_deliveryTime\"].to_list()}, index=sectors)\n",
    "df_plot.plot.bar(rot=0, subplots=True)\n"
   ]
  },
  {
   "cell_type": "code",
   "execution_count": 98,
   "metadata": {},
   "outputs": [
    {
     "name": "stdout",
     "output_type": "stream",
     "text": [
      "      order_id  product_id  quantity  weight  products_weight\n",
      "0            0           5         2    1993             3986\n",
      "1            0          70         2    1066             2132\n",
      "2            0          84         1    1675             1675\n",
      "3            1          20         3    1974             5922\n",
      "4            2          17         3    1612             4836\n",
      "...        ...         ...       ...     ...              ...\n",
      "6734      2239          22         1     407              407\n",
      "6735      2239          47         1     310              310\n",
      "6736      2239          48         3     256              768\n",
      "6737      2239          52         1    1306             1306\n",
      "6738      2239          61         3     943             2829\n",
      "\n",
      "[6739 rows x 5 columns]\n"
     ]
    },
    {
     "data": {
      "text/html": [
       "<div>\n",
       "<style scoped>\n",
       "    .dataframe tbody tr th:only-of-type {\n",
       "        vertical-align: middle;\n",
       "    }\n",
       "\n",
       "    .dataframe tbody tr th {\n",
       "        vertical-align: top;\n",
       "    }\n",
       "\n",
       "    .dataframe thead th {\n",
       "        text-align: right;\n",
       "    }\n",
       "</style>\n",
       "<table border=\"1\" class=\"dataframe\">\n",
       "  <thead>\n",
       "    <tr style=\"text-align: right;\">\n",
       "      <th></th>\n",
       "      <th>order_id</th>\n",
       "      <th>order_weight</th>\n",
       "    </tr>\n",
       "  </thead>\n",
       "  <tbody>\n",
       "    <tr>\n",
       "      <th>713</th>\n",
       "      <td>713</td>\n",
       "      <td>3388</td>\n",
       "    </tr>\n",
       "  </tbody>\n",
       "</table>\n",
       "</div>"
      ],
      "text/plain": [
       "     order_id  order_weight\n",
       "713       713          3388"
      ]
     },
     "execution_count": 98,
     "metadata": {},
     "output_type": "execute_result"
    }
   ],
   "source": [
    "order_weights = orders_products_df.merge(products_df, how=\"left\", on=\"product_id\")\n",
    "order_weights[\"products_weight\"] = order_weights[\"quantity\"].mul(order_weights[\"weight\"])\n",
    "print(order_weights)\n",
    "\n",
    "order_weights_gr = order_weights.groupby(\"order_id\")\n",
    "order_weights_gr = order_weights_gr[\"products_weight\"].sum().reset_index(name=\"order_weight\")\n",
    "order_weights_gr[order_weights_gr[\"order_id\"] == 713]"
   ]
  },
  {
   "cell_type": "code",
   "execution_count": 99,
   "metadata": {},
   "outputs": [
    {
     "ename": "ValueError",
     "evalue": "cannot insert driver_id, already exists",
     "output_type": "error",
     "traceback": [
      "\u001b[0;31m---------------------------------------------------------------------------\u001b[0m",
      "\u001b[0;31mValueError\u001b[0m                                Traceback (most recent call last)",
      "\u001b[0;32m<ipython-input-99-924abd6fc37a>\u001b[0m in \u001b[0;36m<module>\u001b[0;34m\u001b[0m\n\u001b[1;32m      1\u001b[0m \u001b[0mrs_o_pw_df\u001b[0m \u001b[0;34m=\u001b[0m \u001b[0mroute_segments_df\u001b[0m\u001b[0;34m.\u001b[0m\u001b[0mmerge\u001b[0m\u001b[0;34m(\u001b[0m\u001b[0morders_df\u001b[0m\u001b[0;34m,\u001b[0m \u001b[0mhow\u001b[0m\u001b[0;34m=\u001b[0m\u001b[0;34m\"left\"\u001b[0m\u001b[0;34m,\u001b[0m \u001b[0mon\u001b[0m\u001b[0;34m=\u001b[0m\u001b[0;34m\"order_id\"\u001b[0m\u001b[0;34m)\u001b[0m\u001b[0;34m.\u001b[0m\u001b[0mmerge\u001b[0m\u001b[0;34m(\u001b[0m\u001b[0morder_weights_gr\u001b[0m\u001b[0;34m,\u001b[0m \u001b[0mhow\u001b[0m\u001b[0;34m=\u001b[0m\u001b[0;34m\"left\"\u001b[0m\u001b[0;34m,\u001b[0m \u001b[0mon\u001b[0m\u001b[0;34m=\u001b[0m\u001b[0;34m\"order_id\"\u001b[0m\u001b[0;34m)\u001b[0m\u001b[0;34m\u001b[0m\u001b[0;34m\u001b[0m\u001b[0m\n\u001b[1;32m      2\u001b[0m \u001b[0mrs_o_pw_df_gr\u001b[0m \u001b[0;34m=\u001b[0m \u001b[0mrs_o_pw_df\u001b[0m\u001b[0;34m[\u001b[0m\u001b[0mrs_o_pw_df\u001b[0m\u001b[0;34m[\u001b[0m\u001b[0;34m'segment_type'\u001b[0m\u001b[0;34m]\u001b[0m \u001b[0;34m==\u001b[0m \u001b[0;34m\"STOP\"\u001b[0m\u001b[0;34m]\u001b[0m\u001b[0;34m.\u001b[0m\u001b[0mgroupby\u001b[0m\u001b[0;34m(\u001b[0m\u001b[0;34m[\u001b[0m\u001b[0;34m\"sector_id\"\u001b[0m\u001b[0;34m,\u001b[0m \u001b[0;34m\"driver_id\"\u001b[0m\u001b[0;34m]\u001b[0m\u001b[0;34m)\u001b[0m\u001b[0;34m\u001b[0m\u001b[0;34m\u001b[0m\u001b[0m\n\u001b[0;32m----> 3\u001b[0;31m \u001b[0mprint\u001b[0m\u001b[0;34m(\u001b[0m\u001b[0mrs_o_pw_df_gr\u001b[0m\u001b[0;34m[\u001b[0m\u001b[0;34m\"driver_id\"\u001b[0m\u001b[0;34m]\u001b[0m\u001b[0;34m.\u001b[0m\u001b[0mvalue_counts\u001b[0m\u001b[0;34m(\u001b[0m\u001b[0;34m)\u001b[0m\u001b[0;34m.\u001b[0m\u001b[0mreset_index\u001b[0m\u001b[0;34m(\u001b[0m\u001b[0mname\u001b[0m\u001b[0;34m=\u001b[0m\u001b[0;34m\"amount_orders\"\u001b[0m\u001b[0;34m)\u001b[0m\u001b[0;34m)\u001b[0m\u001b[0;34m\u001b[0m\u001b[0;34m\u001b[0m\u001b[0m\n\u001b[0m\u001b[1;32m      4\u001b[0m \u001b[0mrs_o_pw_df_gr\u001b[0m \u001b[0;34m=\u001b[0m \u001b[0mrs_o_pw_df_gr\u001b[0m\u001b[0;34m[\u001b[0m\u001b[0;34m\"order_weight\"\u001b[0m\u001b[0;34m]\u001b[0m\u001b[0;34m.\u001b[0m\u001b[0mmean\u001b[0m\u001b[0;34m(\u001b[0m\u001b[0;34m)\u001b[0m\u001b[0;34m.\u001b[0m\u001b[0mreset_index\u001b[0m\u001b[0;34m(\u001b[0m\u001b[0mname\u001b[0m\u001b[0;34m=\u001b[0m\u001b[0;34m\"avg_order_weight\"\u001b[0m\u001b[0;34m)\u001b[0m\u001b[0;34m\u001b[0m\u001b[0;34m\u001b[0m\u001b[0m\n\u001b[1;32m      5\u001b[0m \u001b[0mrs_o_pw_df_gr\u001b[0m\u001b[0;34m\u001b[0m\u001b[0;34m\u001b[0m\u001b[0m\n",
      "\u001b[0;32m~/.local/lib/python3.6/site-packages/pandas/core/series.py\u001b[0m in \u001b[0;36mreset_index\u001b[0;34m(self, level, drop, name, inplace)\u001b[0m\n\u001b[1;32m   1303\u001b[0m         \u001b[0;32melse\u001b[0m\u001b[0;34m:\u001b[0m\u001b[0;34m\u001b[0m\u001b[0;34m\u001b[0m\u001b[0m\n\u001b[1;32m   1304\u001b[0m             \u001b[0mdf\u001b[0m \u001b[0;34m=\u001b[0m \u001b[0mself\u001b[0m\u001b[0;34m.\u001b[0m\u001b[0mto_frame\u001b[0m\u001b[0;34m(\u001b[0m\u001b[0mname\u001b[0m\u001b[0;34m)\u001b[0m\u001b[0;34m\u001b[0m\u001b[0;34m\u001b[0m\u001b[0m\n\u001b[0;32m-> 1305\u001b[0;31m             \u001b[0;32mreturn\u001b[0m \u001b[0mdf\u001b[0m\u001b[0;34m.\u001b[0m\u001b[0mreset_index\u001b[0m\u001b[0;34m(\u001b[0m\u001b[0mlevel\u001b[0m\u001b[0;34m=\u001b[0m\u001b[0mlevel\u001b[0m\u001b[0;34m,\u001b[0m \u001b[0mdrop\u001b[0m\u001b[0;34m=\u001b[0m\u001b[0mdrop\u001b[0m\u001b[0;34m)\u001b[0m\u001b[0;34m\u001b[0m\u001b[0;34m\u001b[0m\u001b[0m\n\u001b[0m\u001b[1;32m   1306\u001b[0m \u001b[0;34m\u001b[0m\u001b[0m\n\u001b[1;32m   1307\u001b[0m     \u001b[0;31m# ----------------------------------------------------------------------\u001b[0m\u001b[0;34m\u001b[0m\u001b[0;34m\u001b[0m\u001b[0;34m\u001b[0m\u001b[0m\n",
      "\u001b[0;32m~/.local/lib/python3.6/site-packages/pandas/core/frame.py\u001b[0m in \u001b[0;36mreset_index\u001b[0;34m(self, level, drop, inplace, col_level, col_fill)\u001b[0m\n\u001b[1;32m   4857\u001b[0m                 \u001b[0;31m# to ndarray and maybe infer different dtype\u001b[0m\u001b[0;34m\u001b[0m\u001b[0;34m\u001b[0m\u001b[0;34m\u001b[0m\u001b[0m\n\u001b[1;32m   4858\u001b[0m                 \u001b[0mlevel_values\u001b[0m \u001b[0;34m=\u001b[0m \u001b[0m_maybe_casted_values\u001b[0m\u001b[0;34m(\u001b[0m\u001b[0mlev\u001b[0m\u001b[0;34m,\u001b[0m \u001b[0mlab\u001b[0m\u001b[0;34m)\u001b[0m\u001b[0;34m\u001b[0m\u001b[0;34m\u001b[0m\u001b[0m\n\u001b[0;32m-> 4859\u001b[0;31m                 \u001b[0mnew_obj\u001b[0m\u001b[0;34m.\u001b[0m\u001b[0minsert\u001b[0m\u001b[0;34m(\u001b[0m\u001b[0;36m0\u001b[0m\u001b[0;34m,\u001b[0m \u001b[0mname\u001b[0m\u001b[0;34m,\u001b[0m \u001b[0mlevel_values\u001b[0m\u001b[0;34m)\u001b[0m\u001b[0;34m\u001b[0m\u001b[0;34m\u001b[0m\u001b[0m\n\u001b[0m\u001b[1;32m   4860\u001b[0m \u001b[0;34m\u001b[0m\u001b[0m\n\u001b[1;32m   4861\u001b[0m         \u001b[0mnew_obj\u001b[0m\u001b[0;34m.\u001b[0m\u001b[0mindex\u001b[0m \u001b[0;34m=\u001b[0m \u001b[0mnew_index\u001b[0m\u001b[0;34m\u001b[0m\u001b[0;34m\u001b[0m\u001b[0m\n",
      "\u001b[0;32m~/.local/lib/python3.6/site-packages/pandas/core/frame.py\u001b[0m in \u001b[0;36minsert\u001b[0;34m(self, loc, column, value, allow_duplicates)\u001b[0m\n\u001b[1;32m   3626\u001b[0m         \u001b[0mself\u001b[0m\u001b[0;34m.\u001b[0m\u001b[0m_ensure_valid_index\u001b[0m\u001b[0;34m(\u001b[0m\u001b[0mvalue\u001b[0m\u001b[0;34m)\u001b[0m\u001b[0;34m\u001b[0m\u001b[0;34m\u001b[0m\u001b[0m\n\u001b[1;32m   3627\u001b[0m         \u001b[0mvalue\u001b[0m \u001b[0;34m=\u001b[0m \u001b[0mself\u001b[0m\u001b[0;34m.\u001b[0m\u001b[0m_sanitize_column\u001b[0m\u001b[0;34m(\u001b[0m\u001b[0mcolumn\u001b[0m\u001b[0;34m,\u001b[0m \u001b[0mvalue\u001b[0m\u001b[0;34m,\u001b[0m \u001b[0mbroadcast\u001b[0m\u001b[0;34m=\u001b[0m\u001b[0;32mFalse\u001b[0m\u001b[0;34m)\u001b[0m\u001b[0;34m\u001b[0m\u001b[0;34m\u001b[0m\u001b[0m\n\u001b[0;32m-> 3628\u001b[0;31m         \u001b[0mself\u001b[0m\u001b[0;34m.\u001b[0m\u001b[0m_mgr\u001b[0m\u001b[0;34m.\u001b[0m\u001b[0minsert\u001b[0m\u001b[0;34m(\u001b[0m\u001b[0mloc\u001b[0m\u001b[0;34m,\u001b[0m \u001b[0mcolumn\u001b[0m\u001b[0;34m,\u001b[0m \u001b[0mvalue\u001b[0m\u001b[0;34m,\u001b[0m \u001b[0mallow_duplicates\u001b[0m\u001b[0;34m=\u001b[0m\u001b[0mallow_duplicates\u001b[0m\u001b[0;34m)\u001b[0m\u001b[0;34m\u001b[0m\u001b[0;34m\u001b[0m\u001b[0m\n\u001b[0m\u001b[1;32m   3629\u001b[0m \u001b[0;34m\u001b[0m\u001b[0m\n\u001b[1;32m   3630\u001b[0m     \u001b[0;32mdef\u001b[0m \u001b[0massign\u001b[0m\u001b[0;34m(\u001b[0m\u001b[0mself\u001b[0m\u001b[0;34m,\u001b[0m \u001b[0;34m**\u001b[0m\u001b[0mkwargs\u001b[0m\u001b[0;34m)\u001b[0m \u001b[0;34m->\u001b[0m \u001b[0;34m\"DataFrame\"\u001b[0m\u001b[0;34m:\u001b[0m\u001b[0;34m\u001b[0m\u001b[0;34m\u001b[0m\u001b[0m\n",
      "\u001b[0;32m~/.local/lib/python3.6/site-packages/pandas/core/internals/managers.py\u001b[0m in \u001b[0;36minsert\u001b[0;34m(self, loc, item, value, allow_duplicates)\u001b[0m\n\u001b[1;32m   1184\u001b[0m         \u001b[0;32mif\u001b[0m \u001b[0;32mnot\u001b[0m \u001b[0mallow_duplicates\u001b[0m \u001b[0;32mand\u001b[0m \u001b[0mitem\u001b[0m \u001b[0;32min\u001b[0m \u001b[0mself\u001b[0m\u001b[0;34m.\u001b[0m\u001b[0mitems\u001b[0m\u001b[0;34m:\u001b[0m\u001b[0;34m\u001b[0m\u001b[0;34m\u001b[0m\u001b[0m\n\u001b[1;32m   1185\u001b[0m             \u001b[0;31m# Should this be a different kind of error??\u001b[0m\u001b[0;34m\u001b[0m\u001b[0;34m\u001b[0m\u001b[0;34m\u001b[0m\u001b[0m\n\u001b[0;32m-> 1186\u001b[0;31m             \u001b[0;32mraise\u001b[0m \u001b[0mValueError\u001b[0m\u001b[0;34m(\u001b[0m\u001b[0;34mf\"cannot insert {item}, already exists\"\u001b[0m\u001b[0;34m)\u001b[0m\u001b[0;34m\u001b[0m\u001b[0;34m\u001b[0m\u001b[0m\n\u001b[0m\u001b[1;32m   1187\u001b[0m \u001b[0;34m\u001b[0m\u001b[0m\n\u001b[1;32m   1188\u001b[0m         \u001b[0;32mif\u001b[0m \u001b[0;32mnot\u001b[0m \u001b[0misinstance\u001b[0m\u001b[0;34m(\u001b[0m\u001b[0mloc\u001b[0m\u001b[0;34m,\u001b[0m \u001b[0mint\u001b[0m\u001b[0;34m)\u001b[0m\u001b[0;34m:\u001b[0m\u001b[0;34m\u001b[0m\u001b[0;34m\u001b[0m\u001b[0m\n",
      "\u001b[0;31mValueError\u001b[0m: cannot insert driver_id, already exists"
     ]
    }
   ],
   "source": [
    "rs_o_pw_df = route_segments_df.merge(orders_df, how=\"left\", on=\"order_id\").merge(order_weights_gr, how=\"left\", on=\"order_id\")\n",
    "rs_o_pw_df_gr = rs_o_pw_df[rs_o_pw_df['segment_type'] == \"STOP\"].groupby([\"sector_id\", \"driver_id\"])\n",
    "print(rs_o_pw_df_gr[\"driver_id\"].value_counts().reset_index(name=\"amount_orders\"))\n",
    "rs_o_pw_df_gr = rs_o_pw_df_gr[\"order_weight\"].mean().reset_index(name=\"avg_order_weight\")\n",
    "rs_o_pw_df_gr"
   ]
  },
  {
   "cell_type": "markdown",
   "metadata": {},
   "source": [
    "-- Select order_id, sum(weight * quantity) as order_weight from orders_products natural left join products group by order_id;\n",
    "SELECT sector_id, driver_id, AVG((segment_end_time - segment_start_time)) / 60 as avg_deliveryTime, count(*) as amount_orders, order_weight, avg_order_weight  FROM droptime.route_segments natural left join orders natural left join \n",
    "( Select order_id, sum(weight * quantity) as order_weight, avg(weight * quantity) as avg_order_weight from orders_products natural left join products group by order_id ) as order_weight\n",
    " where segment_type = \"STOP\" and sector_id is not null group by sector_id, driver_id order by avg_deliveryTime DESC;"
   ]
  }
 ],
 "metadata": {
  "kernelspec": {
   "display_name": "Python 3",
   "language": "python",
   "name": "python3"
  },
  "language_info": {
   "codemirror_mode": {
    "name": "ipython",
    "version": 3
   },
   "file_extension": ".py",
   "mimetype": "text/x-python",
   "name": "python",
   "nbconvert_exporter": "python",
   "pygments_lexer": "ipython3",
   "version": "3.6.9"
  },
  "pycharm": {
   "stem_cell": {
    "cell_type": "raw",
    "metadata": {
     "collapsed": false
    },
    "source": []
   }
  }
 },
 "nbformat": 4,
 "nbformat_minor": 4
}
