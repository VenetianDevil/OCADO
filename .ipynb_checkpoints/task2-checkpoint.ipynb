{
 "cells": [
  {
   "cell_type": "code",
   "execution_count": 1,
   "metadata": {
    "pycharm": {
     "name": "#%%\n"
    }
   },
   "outputs": [],
   "source": [
    "import pandas as pd\n",
    "import matplotlib.pyplot as plt\n",
    "\n",
    "orders_df = pd.read_csv(\"./orders.csv\", sep=\";\")\n",
    "orders_products_df = pd.read_csv(\"./orders_products.csv\", sep=\";\")\n",
    "products_df = pd.read_csv(\"./products.csv\", sep=\";\")\n",
    "route_segments_df = pd.read_csv(\"./route_segments.csv\", sep=\";\")"
   ]
  },
  {
   "cell_type": "code",
   "execution_count": 97,
   "metadata": {
    "collapsed": false,
    "jupyter": {
     "outputs_hidden": false
    },
    "pycharm": {
     "name": "#%%\n"
    }
   },
   "outputs": [],
   "source": [
    "rs_o_df = route_segments_df.merge(orders_df, how=\"left\", on=\"order_id\")\n",
    "rs_o_df[\"delivery_time\"]=(pd.to_datetime(rs_o_df['segment_end_time']) - pd.to_datetime(rs_o_df['segment_start_time'])).dt.total_seconds()\n",
    "\n",
    "# rs_o_df"
   ]
  },
  {
   "cell_type": "code",
   "execution_count": 98,
   "metadata": {},
   "outputs": [
    {
     "data": {
      "text/plain": [
       "sector_id  driver_id\n",
       "1          1            354\n",
       "           2            280\n",
       "           3            316\n",
       "           4            283\n",
       "2          1            161\n",
       "           2            184\n",
       "           3            199\n",
       "           4            195\n",
       "3          1            217\n",
       "           2            166\n",
       "           3            205\n",
       "           4            191\n",
       "Name: driver_id, dtype: int64"
      ]
     },
     "execution_count": 98,
     "metadata": {},
     "output_type": "execute_result"
    }
   ],
   "source": [
    "grouped = rs_o_df[rs_o_df['segment_type'] == \"STOP\"].groupby([\"sector_id\", \"driver_id\"], dropna=False)\n",
    "grouped[\"driver_id\"].count()"
   ]
  },
  {
   "cell_type": "code",
   "execution_count": 99,
   "metadata": {},
   "outputs": [
    {
     "data": {
      "text/html": [
       "<div>\n",
       "<style scoped>\n",
       "    .dataframe tbody tr th:only-of-type {\n",
       "        vertical-align: middle;\n",
       "    }\n",
       "\n",
       "    .dataframe tbody tr th {\n",
       "        vertical-align: top;\n",
       "    }\n",
       "\n",
       "    .dataframe thead th {\n",
       "        text-align: right;\n",
       "    }\n",
       "</style>\n",
       "<table border=\"1\" class=\"dataframe\">\n",
       "  <thead>\n",
       "    <tr style=\"text-align: right;\">\n",
       "      <th></th>\n",
       "      <th>sector_id</th>\n",
       "      <th>driver_id</th>\n",
       "      <th>amount_orders</th>\n",
       "    </tr>\n",
       "  </thead>\n",
       "  <tbody>\n",
       "    <tr>\n",
       "      <th>0</th>\n",
       "      <td>1</td>\n",
       "      <td>1</td>\n",
       "      <td>354</td>\n",
       "    </tr>\n",
       "    <tr>\n",
       "      <th>1</th>\n",
       "      <td>1</td>\n",
       "      <td>2</td>\n",
       "      <td>280</td>\n",
       "    </tr>\n",
       "    <tr>\n",
       "      <th>2</th>\n",
       "      <td>1</td>\n",
       "      <td>3</td>\n",
       "      <td>316</td>\n",
       "    </tr>\n",
       "    <tr>\n",
       "      <th>3</th>\n",
       "      <td>1</td>\n",
       "      <td>4</td>\n",
       "      <td>283</td>\n",
       "    </tr>\n",
       "    <tr>\n",
       "      <th>4</th>\n",
       "      <td>2</td>\n",
       "      <td>1</td>\n",
       "      <td>161</td>\n",
       "    </tr>\n",
       "  </tbody>\n",
       "</table>\n",
       "</div>"
      ],
      "text/plain": [
       "   sector_id  driver_id  amount_orders\n",
       "0          1          1            354\n",
       "1          1          2            280\n",
       "2          1          3            316\n",
       "3          1          4            283\n",
       "4          2          1            161"
      ]
     },
     "execution_count": 99,
     "metadata": {},
     "output_type": "execute_result"
    }
   ],
   "source": [
    "grouped = grouped[\"driver_id\"].value_counts().reset_index(name=\"amount_orders\")\n",
    "grouped.head()"
   ]
  },
  {
   "cell_type": "code",
   "execution_count": 120,
   "metadata": {},
   "outputs": [
    {
     "data": {
      "text/html": [
       "<div>\n",
       "<style scoped>\n",
       "    .dataframe tbody tr th:only-of-type {\n",
       "        vertical-align: middle;\n",
       "    }\n",
       "\n",
       "    .dataframe tbody tr th {\n",
       "        vertical-align: top;\n",
       "    }\n",
       "\n",
       "    .dataframe thead th {\n",
       "        text-align: right;\n",
       "    }\n",
       "</style>\n",
       "<table border=\"1\" class=\"dataframe\">\n",
       "  <thead>\n",
       "    <tr style=\"text-align: right;\">\n",
       "      <th></th>\n",
       "      <th>avg_dt</th>\n",
       "    </tr>\n",
       "    <tr>\n",
       "      <th>sector_id</th>\n",
       "      <th></th>\n",
       "    </tr>\n",
       "  </thead>\n",
       "  <tbody>\n",
       "    <tr>\n",
       "      <th>1</th>\n",
       "      <td>9.207772</td>\n",
       "    </tr>\n",
       "    <tr>\n",
       "      <th>2</th>\n",
       "      <td>5.282161</td>\n",
       "    </tr>\n",
       "    <tr>\n",
       "      <th>3</th>\n",
       "      <td>5.149487</td>\n",
       "    </tr>\n",
       "  </tbody>\n",
       "</table>\n",
       "</div>"
      ],
      "text/plain": [
       "             avg_dt\n",
       "sector_id          \n",
       "1          9.207772\n",
       "2          5.282161\n",
       "3          5.149487"
      ]
     },
     "execution_count": 120,
     "metadata": {},
     "output_type": "execute_result"
    }
   ],
   "source": [
    "rs_o_df_grouped = rs_o_df[[\"sector_id\", \"driver_id\", \"delivery_time\"]][rs_o_df['segment_type'] == \"STOP\"].groupby([\"sector_id\", \"driver_id\"], dropna=False)\n",
    "rs_o_df_grouped = rs_o_df_grouped.mean().rename(columns={\"delivery_time\":\"avg_dt\"})\n",
    "rs_o_df_grouped.head()\n",
    "\n",
    "rs_o_df_grouped_s = rs_o_df[[\"sector_id\", \"delivery_time\"]][rs_o_df['segment_type'] == \"STOP\"].groupby([\"sector_id\"], dropna=False)\n",
    "rs_o_df_grouped_s = (rs_o_df_grouped_s.mean() / 60).rename(columns={\"delivery_time\":\"avg_dt\"})\n",
    "rs_o_df_grouped_s.head()"
   ]
  },
  {
   "cell_type": "code",
   "execution_count": 121,
   "metadata": {},
   "outputs": [
    {
     "data": {
      "text/html": [
       "<div>\n",
       "<style scoped>\n",
       "    .dataframe tbody tr th:only-of-type {\n",
       "        vertical-align: middle;\n",
       "    }\n",
       "\n",
       "    .dataframe tbody tr th {\n",
       "        vertical-align: top;\n",
       "    }\n",
       "\n",
       "    .dataframe thead th {\n",
       "        text-align: right;\n",
       "    }\n",
       "</style>\n",
       "<table border=\"1\" class=\"dataframe\">\n",
       "  <thead>\n",
       "    <tr style=\"text-align: right;\">\n",
       "      <th></th>\n",
       "      <th>sector_id</th>\n",
       "      <th>driver_id</th>\n",
       "      <th>avg_dt</th>\n",
       "      <th>amount_orders</th>\n",
       "    </tr>\n",
       "  </thead>\n",
       "  <tbody>\n",
       "    <tr>\n",
       "      <th>0</th>\n",
       "      <td>1</td>\n",
       "      <td>1</td>\n",
       "      <td>463.279661</td>\n",
       "      <td>354</td>\n",
       "    </tr>\n",
       "    <tr>\n",
       "      <th>1</th>\n",
       "      <td>1</td>\n",
       "      <td>2</td>\n",
       "      <td>440.735714</td>\n",
       "      <td>280</td>\n",
       "    </tr>\n",
       "    <tr>\n",
       "      <th>2</th>\n",
       "      <td>1</td>\n",
       "      <td>3</td>\n",
       "      <td>605.189873</td>\n",
       "      <td>316</td>\n",
       "    </tr>\n",
       "    <tr>\n",
       "      <th>3</th>\n",
       "      <td>1</td>\n",
       "      <td>4</td>\n",
       "      <td>715.703180</td>\n",
       "      <td>283</td>\n",
       "    </tr>\n",
       "    <tr>\n",
       "      <th>4</th>\n",
       "      <td>2</td>\n",
       "      <td>1</td>\n",
       "      <td>236.757764</td>\n",
       "      <td>161</td>\n",
       "    </tr>\n",
       "    <tr>\n",
       "      <th>5</th>\n",
       "      <td>2</td>\n",
       "      <td>2</td>\n",
       "      <td>262.967391</td>\n",
       "      <td>184</td>\n",
       "    </tr>\n",
       "    <tr>\n",
       "      <th>6</th>\n",
       "      <td>2</td>\n",
       "      <td>3</td>\n",
       "      <td>307.577889</td>\n",
       "      <td>199</td>\n",
       "    </tr>\n",
       "    <tr>\n",
       "      <th>7</th>\n",
       "      <td>2</td>\n",
       "      <td>4</td>\n",
       "      <td>443.584615</td>\n",
       "      <td>195</td>\n",
       "    </tr>\n",
       "    <tr>\n",
       "      <th>8</th>\n",
       "      <td>3</td>\n",
       "      <td>1</td>\n",
       "      <td>321.488479</td>\n",
       "      <td>217</td>\n",
       "    </tr>\n",
       "    <tr>\n",
       "      <th>9</th>\n",
       "      <td>3</td>\n",
       "      <td>2</td>\n",
       "      <td>462.771084</td>\n",
       "      <td>166</td>\n",
       "    </tr>\n",
       "    <tr>\n",
       "      <th>10</th>\n",
       "      <td>3</td>\n",
       "      <td>3</td>\n",
       "      <td>168.380488</td>\n",
       "      <td>205</td>\n",
       "    </tr>\n",
       "    <tr>\n",
       "      <th>11</th>\n",
       "      <td>3</td>\n",
       "      <td>4</td>\n",
       "      <td>311.968586</td>\n",
       "      <td>191</td>\n",
       "    </tr>\n",
       "  </tbody>\n",
       "</table>\n",
       "</div>"
      ],
      "text/plain": [
       "    sector_id  driver_id      avg_dt  amount_orders\n",
       "0           1          1  463.279661            354\n",
       "1           1          2  440.735714            280\n",
       "2           1          3  605.189873            316\n",
       "3           1          4  715.703180            283\n",
       "4           2          1  236.757764            161\n",
       "5           2          2  262.967391            184\n",
       "6           2          3  307.577889            199\n",
       "7           2          4  443.584615            195\n",
       "8           3          1  321.488479            217\n",
       "9           3          2  462.771084            166\n",
       "10          3          3  168.380488            205\n",
       "11          3          4  311.968586            191"
      ]
     },
     "execution_count": 121,
     "metadata": {},
     "output_type": "execute_result"
    }
   ],
   "source": [
    "rs_o_df_grouped = rs_o_df_grouped.merge(grouped, how=\"left\", on=[\"sector_id\", \"driver_id\"])\n",
    "rs_o_df_grouped"
   ]
  },
  {
   "cell_type": "code",
   "execution_count": 126,
   "metadata": {},
   "outputs": [
    {
     "name": "stdout",
     "output_type": "stream",
     "text": [
      "1\n",
      "2\n",
      "3\n",
      "4\n",
      "{'Driver 1': [7.72132768361582, 3.945962732919255, 5.358141321044546], 'Driver 2': [7.345595238095238, 4.382789855072463, 7.71285140562249], 'Driver 3': [10.086497890295359, 5.126298157453936, 2.806341463414634], 'Driver 4': [11.928386336866902, 7.393076923076923, 5.199476439790575]} {'Driver 1': [354, 161, 217], 'Driver 2': [280, 184, 166], 'Driver 3': [316, 199, 205], 'Driver 4': [283, 195, 191]}\n"
     ]
    },
    {
     "data": {
      "text/plain": [
       "[<matplotlib.axis.XTick at 0x18e38849250>,\n",
       " <matplotlib.axis.XTick at 0x18e38849220>,\n",
       " <matplotlib.axis.XTick at 0x18e388a6910>]"
      ]
     },
     "execution_count": 126,
     "metadata": {},
     "output_type": "execute_result"
    },
    {
     "data": {
      "image/png": "[encoded data removed]",
      "text/plain": [
       "<Figure size 500x500 with 2 Axes>"
      ]
     },
     "metadata": {},
     "output_type": "display_data"
    }
   ],
   "source": [
    "sectors = rs_o_df_grouped[\"sector_id\"].unique()\n",
    "drivers = rs_o_df_grouped[\"driver_id\"].unique()\n",
    "avg_dt_s = rs_o_df_grouped_s[\"avg_dt\"].to_list()\n",
    "dt_set = {}\n",
    "aorders_set = {}\n",
    "for driver_id in drivers:\n",
    "    print(driver_id)\n",
    "    dt_set[\"Driver \" + str(driver_id)] = (rs_o_df_grouped[rs_o_df_grouped[\"driver_id\"] == driver_id].sort_values(\"sector_id\")[\"avg_dt\"] / 60).to_list()\n",
    "    aorders_set[\"Driver \" + str(driver_id)] = rs_o_df_grouped[rs_o_df_grouped[\"driver_id\"] == driver_id].sort_values(\"sector_id\")[\"amount_orders\"].to_list()\n",
    "    \n",
    "print(dt_set, aorders_set)\n",
    "sf_plot = pd.DataFrame(dt_set, index=sectors)\n",
    "ao_plot = pd.DataFrame(aorders_set, index=sectors)\n",
    "fig, axes = plt.subplots(nrows=2)\n",
    "fig.set_figheight(5)\n",
    "fig.set_figwidth(5)\n",
    "sf_plot.plot.bar(rot=0, ax=axes[0])\n",
    "ao_plot.plot(ax=axes[1] )\n",
    "axes[0].set_ylabel(\"avg delivery time [min]\")\n",
    "axes[1].set_ylabel(\"orders\")\n",
    "axes[1].set_xticks(sectors)"
   ]
  },
  {
   "cell_type": "code",
   "execution_count": 123,
   "metadata": {},
   "outputs": [
    {
     "data": {
      "text/plain": [
       "Text(0.5, 0, 'sector')"
      ]
     },
     "execution_count": 123,
     "metadata": {},
     "output_type": "execute_result"
    },
    {
     "data": {
      "image/png": "[encoded data removed]",
      "text/plain": [
       "<Figure size 640x480 with 1 Axes>"
      ]
     },
     "metadata": {},
     "output_type": "display_data"
    }
   ],
   "source": [
    "ax = sf_plot.plot.bar(stacked=True)\n",
    "ax.set_ylabel(\"avg delivery time [min]\")\n",
    "ax.set_xlabel(\"sector\")"
   ]
  },
  {
   "cell_type": "code",
   "execution_count": 125,
   "metadata": {},
   "outputs": [
    {
     "data": {
      "text/plain": [
       "Text(0, 0.5, 'avg delivery time [min]')"
      ]
     },
     "execution_count": 125,
     "metadata": {},
     "output_type": "execute_result"
    },
    {
     "data": {
      "image/png": "[encoded data removed]",
      "text/plain": [
       "<Figure size 640x480 with 1 Axes>"
      ]
     },
     "metadata": {},
     "output_type": "display_data"
    }
   ],
   "source": [
    "ax = rs_o_df_grouped_s.plot.bar()\n",
    "ax.set_ylabel(\"avg delivery time [min]\")"
   ]
  }
 ],
 "metadata": {
  "kernelspec": {
   "display_name": "Python 3 (ipykernel)",
   "language": "python",
   "name": "python3"
  },
  "language_info": {
   "codemirror_mode": {
    "name": "ipython",
    "version": 3
   },
   "file_extension": ".py",
   "mimetype": "text/x-python",
   "name": "python",
   "nbconvert_exporter": "python",
   "pygments_lexer": "ipython3",
   "version": "3.8.10"
  },
  "pycharm": {
   "stem_cell": {
    "cell_type": "raw",
    "metadata": {
     "collapsed": false
    },
    "source": []
   }
  }
 },
 "nbformat": 4,
 "nbformat_minor": 4
}
